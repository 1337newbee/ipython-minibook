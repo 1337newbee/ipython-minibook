{
 "metadata": {
  "name": "9932_05_03"
 },
 "nbformat": 3,
 "nbformat_minor": 0,
 "worksheets": [
  {
   "cells": [
    {
     "cell_type": "code",
     "collapsed": false,
     "input": [
      "def primes1(n):\n",
      "    primes = [False, False] + [True] * (n - 2)\n",
      "    i = 2\n",
      "    while i < n:\n",
      "        # we do not deal with composite numbers\n",
      "        if not primes[i]:\n",
      "            i += 1\n",
      "            continue\n",
      "        k = i * i\n",
      "        # mark multiples of i as composite numbers\n",
      "        while k < n:\n",
      "            primes[k] = False\n",
      "            k += i\n",
      "        i += 1\n",
      "    return [i for i in xrange(2, n) if primes[i]]"
     ],
     "language": "python",
     "metadata": {},
     "outputs": []
    },
    {
     "cell_type": "code",
     "collapsed": false,
     "input": [
      "n = 10000"
     ],
     "language": "python",
     "metadata": {},
     "outputs": []
    },
    {
     "cell_type": "code",
     "collapsed": false,
     "input": [
      "primes1(20)"
     ],
     "language": "python",
     "metadata": {},
     "outputs": []
    },
    {
     "cell_type": "code",
     "collapsed": false,
     "input": [
      "timeit primes1(n)"
     ],
     "language": "python",
     "metadata": {},
     "outputs": []
    },
    {
     "cell_type": "code",
     "collapsed": false,
     "input": [
      "load_ext cythonmagic"
     ],
     "language": "python",
     "metadata": {},
     "outputs": []
    },
    {
     "cell_type": "code",
     "collapsed": false,
     "input": [
      "%%cython\n",
      "def primes2(n):\n",
      "    primes = [False, False] + [True] * (n - 2)\n",
      "    i = 2\n",
      "    while i < n:\n",
      "        if not primes[i]:\n",
      "            i += 1\n",
      "            continue\n",
      "        k = i * i\n",
      "        while k < n:\n",
      "            primes[k] = False\n",
      "            k += i\n",
      "        i += 1\n",
      "    return [i for i in xrange(2, n) if primes[i]]"
     ],
     "language": "python",
     "metadata": {},
     "outputs": []
    },
    {
     "cell_type": "code",
     "collapsed": false,
     "input": [
      "primes2(20)"
     ],
     "language": "python",
     "metadata": {},
     "outputs": []
    },
    {
     "cell_type": "code",
     "collapsed": false,
     "input": [
      "timeit primes2(n)"
     ],
     "language": "python",
     "metadata": {},
     "outputs": []
    },
    {
     "cell_type": "code",
     "collapsed": false,
     "input": [
      "%%cython\n",
      "def primes3(int n):\n",
      "    primes = [False, False] + [True] * (n - 2)\n",
      "    cdef int i = 2\n",
      "    cdef int k = 0\n",
      "    while i < n:\n",
      "        if not primes[i]:\n",
      "            i += 1\n",
      "            continue\n",
      "        k = i * i\n",
      "        while k < n:\n",
      "            primes[k] = False\n",
      "            k += i\n",
      "        i += 1\n",
      "    return [i for i in xrange(2, n) if primes[i]]"
     ],
     "language": "python",
     "metadata": {},
     "outputs": []
    },
    {
     "cell_type": "code",
     "collapsed": false,
     "input": [
      "timeit primes3(n)"
     ],
     "language": "python",
     "metadata": {},
     "outputs": []
    }
   ],
   "metadata": {}
  }
 ]
}