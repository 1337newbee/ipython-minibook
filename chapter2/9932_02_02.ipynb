{
 "metadata": {
  "name": "9932_02_02"
 },
 "nbformat": 3,
 "nbformat_minor": 0,
 "worksheets": [
  {
   "cells": [
    {
     "cell_type": "markdown",
     "metadata": {},
     "source": [
      "Chapter 2, example 2\n",
      "====================\n",
      "\n",
      "Here we continue with the previous example: we write some Python commands to list all files in the downloaded data. We also show how to execute external Python scripts in IPython using the magic command `%run`.\n",
      "\n",
      "The following code should be stored in `egos.py`:\n",
      "\n",
      "    import sys\n",
      "    import os\n",
      "    # we retrieve the folder as the first positional argument\n",
      "    # to the command-line call\n",
      "    if len(sys.argv) > 1:\n",
      "        folder = sys.argv[1]\n",
      "    # we list all files in the specified folder\n",
      "    files = os.listdir(folder)\n",
      "    # ids contains the sorted list of all unique idenfitiers\n",
      "    ids = sorted(set(map(lambda file: int(file.split('.')[0]), files)))\n"
     ]
    },
    {
     "cell_type": "markdown",
     "metadata": {},
     "source": [
      "The `egos.py` script accepts the facebook folder's relative path as an argument, and extracts all file identifiers in an `ids` variable. Each file in the dataset has the form `ID.extension`."
     ]
    },
    {
     "cell_type": "code",
     "collapsed": false,
     "input": [
      "%run egos.py data/facebook"
     ],
     "language": "python",
     "metadata": {},
     "outputs": []
    },
    {
     "cell_type": "markdown",
     "metadata": {},
     "source": [
      "After using the `%run` command to execute this script, all variables defined in the script are available in the current user namespace. In particular, we can retrieve the `ids` variable here."
     ]
    },
    {
     "cell_type": "code",
     "collapsed": false,
     "input": [
      "ids"
     ],
     "language": "python",
     "metadata": {},
     "outputs": []
    },
    {
     "cell_type": "markdown",
     "metadata": {},
     "source": [
      "Whereas output variables are available in the namespace *after* the script's execution, variables available in IPython *before* its execution are not available within the script by default. For example, here we define the `folder` variable in the current namespace, and we call `%run egos.py` without an argument."
     ]
    },
    {
     "cell_type": "code",
     "collapsed": false,
     "input": [
      "folder = 'data/facebook'"
     ],
     "language": "python",
     "metadata": {},
     "outputs": []
    },
    {
     "cell_type": "markdown",
     "metadata": {},
     "source": [
      "A `NameError` exception is expected here, because the `folder` variable is not defined in the script, although it is defined in the current namespace."
     ]
    },
    {
     "cell_type": "code",
     "collapsed": false,
     "input": [
      "%run egos.py"
     ],
     "language": "python",
     "metadata": {},
     "outputs": []
    },
    {
     "cell_type": "markdown",
     "metadata": {},
     "source": [
      "However, we can tell IPython *explicitely* to use the current user namespace for the external script's execution with the `-i` option."
     ]
    },
    {
     "cell_type": "code",
     "collapsed": false,
     "input": [
      "%run -i egos.py"
     ],
     "language": "python",
     "metadata": {},
     "outputs": []
    },
    {
     "cell_type": "markdown",
     "metadata": {},
     "source": [
      "Now the script's execution works as expected, and the `ids` variable is available."
     ]
    },
    {
     "cell_type": "code",
     "collapsed": false,
     "input": [
      "ids"
     ],
     "language": "python",
     "metadata": {},
     "outputs": []
    }
   ],
   "metadata": {}
  }
 ]
}